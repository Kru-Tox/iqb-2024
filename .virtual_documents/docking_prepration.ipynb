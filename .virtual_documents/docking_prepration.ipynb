


from rcsbsearchapi.search import TextQuery
from rcsbsearchapi import rcsb_attributes as attrs

ECnumber = "3.4.21.4"    

q1 = attrs.rcsb_polymer_entity.rcsb_ec_lineage.id == ECnumber  # looking for trypsins
q2 = ## Fill in text query here

query = q1 & q2               # combining the two queries into one

results = list(query())
print(results)


pdb_id = ## Get the PDB ID from the list and convert it to lowercase
print(pdb_id)





import os # for making directories
import requests

# make a directory for pdb files
protein_directory = "protein_structures"

## fill in function to make directories

pdb_request = requests.get(f"https://files.rcsb.org/download/{pdb_id}.pdb")
pdb_request.status_code


with open(f"{protein_directory}/{pdb_id}.pdb", "w+") as f:
    ## fill in write command





import MDAnalysis as mda

# Load into MDA universe
u = 
u





import nglview as nv
## create and show an NGLView from an MDAnalysis universe





# Select protein atoms
protein = u.select_atoms("protein")
ligand = u.select_atoms("resname 13U")
water = ## fill in selection for water.

water





view = nv.show_mdanalysis(protein)
view.clear_representations()
## Add representation to view protein surface colored by hydrophobicity
lig_view = view.add_component(ligand)
lig_view.add_representation("ball+stick")
water_view = view.add_component(water)
water_view.add_representation("spacefill")
view





# Write protein to new PDB file
protein.write(f"{protein_directory}/protein_{pdb_id}.pdb")











! pdb2pqr --pdb-output=protein_structures/protein_h.pdb --pH=7.4 protein_structures/protein_2zq2.pdb protein_structures/protein_2zq2.pqr --whitespace








# make a directory for pdb files
pdbqt_directory = ## fill in the name of the directory to write PDBQT files to
os.makedirs(pdbqt_directory, exist_ok=True)

u = mda.Universe(f"{protein_directory}/protein_{pdb_id}.pqr")
u.atoms.write(f"{pdbqt_directory}/{pdb_id}.pdbqt")





# Read in the just-written PDBQT file, replace text, and write back
with open(f"{pdbqt_directory}/{pdb_id}.pdbqt", 'r') as file:
    file_content = file.read()

# Replace 'TITLE' and 'CRYST1' with 'REMARK'
file_content = file_content.replace('TITLE', 'REMARK').replace('CRYST1', 'REMARK')

# Write the modified content back to the file
with open(f"{pdbqt_directory}/{pdb_id}.pdbqt", 'w') as file:
    file.write(file_content)





# Use meeko to prepare small molecules - using meeko helps us visualize them later.
! mk_prepare_ligand.py -i ligands_to_dock/13U.sdf -o pdbqt/13U.pdbqt
! mk_prepare_ligand.py -i ligands_to_dock/13U_modified_methyl.sdf -o pdbqt/13U_modified_methyl.pdbqt
# Fill in the command for converting the N modified ligand.



